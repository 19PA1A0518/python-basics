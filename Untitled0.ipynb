{
  "nbformat": 4,
  "nbformat_minor": 0,
  "metadata": {
    "colab": {
      "name": "Untitled0.ipynb",
      "provenance": [],
      "collapsed_sections": [],
      "toc_visible": true,
      "authorship_tag": "ABX9TyNYRBHVaUxm7wueQURw3Jql",
      "include_colab_link": true
    },
    "kernelspec": {
      "name": "python3",
      "display_name": "Python 3"
    }
  },
  "cells": [
    {
      "cell_type": "markdown",
      "metadata": {
        "id": "view-in-github",
        "colab_type": "text"
      },
      "source": [
        "<a href=\"https://colab.research.google.com/github/19PA1A0518/python-basics/blob/master/Untitled0.ipynb\" target=\"_parent\"><img src=\"https://colab.research.google.com/assets/colab-badge.svg\" alt=\"Open In Colab\"/></a>"
      ]
    },
    {
      "cell_type": "code",
      "metadata": {
        "id": "ksCtZPz0PaBI",
        "colab_type": "code",
        "colab": {
          "base_uri": "https://localhost:8080/",
          "height": 85
        },
        "outputId": "837c498c-4b06-4858-81ef-97c9ddf8cf36"
      },
      "source": [
        "import pandas as pd\n",
        "import numpy as np\n",
        "df=pd.DataFrame([[\"father\",\"srinu\",25],[\"mother\",\"lakshmi\",20],[\"son\",\"raju\",4]],columns=[\"relation\",\"name\",\"age\"])\n",
        "df[\"colour\"]=pd.Series([\"red\",\"blue\",\"Green\"])\n",
        "print(df)"
      ],
      "execution_count": 21,
      "outputs": [
        {
          "output_type": "stream",
          "text": [
            "  relation     name  age colour\n",
            "0   father    srinu   25    red\n",
            "1   mother  lakshmi   20   blue\n",
            "2      son     raju    4  Green\n"
          ],
          "name": "stdout"
        }
      ]
    }
  ]
}
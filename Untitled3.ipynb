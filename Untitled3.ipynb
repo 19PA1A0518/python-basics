{
  "nbformat": 4,
  "nbformat_minor": 0,
  "metadata": {
    "colab": {
      "name": "Untitled3.ipynb",
      "provenance": [],
      "authorship_tag": "ABX9TyNe2uLnn4PvYcBNFsZsuayL",
      "include_colab_link": true
    },
    "kernelspec": {
      "name": "python3",
      "display_name": "Python 3"
    }
  },
  "cells": [
    {
      "cell_type": "markdown",
      "metadata": {
        "id": "view-in-github",
        "colab_type": "text"
      },
      "source": [
        "<a href=\"https://colab.research.google.com/github/19PA1A0518/python-basics/blob/master/Untitled3.ipynb\" target=\"_parent\"><img src=\"https://colab.research.google.com/assets/colab-badge.svg\" alt=\"Open In Colab\"/></a>"
      ]
    },
    {
      "cell_type": "code",
      "metadata": {
        "id": "60aGH7Y3cxIm",
        "colab_type": "code",
        "colab": {
          "base_uri": "https://localhost:8080/",
          "height": 69
        },
        "outputId": "c2214036-fa17-4938-8711-04c2b5c22eb0"
      },
      "source": [
        "import pandas as pd\n",
        "import numpy as np\n",
        "a=pd.DataFrame([[1,\"snsdgyfodfbdjgfgdy\"],[1,\"nhgak\"]],columns=[\"name\",\"no\"])\n",
        "print(a)"
      ],
      "execution_count": 9,
      "outputs": [
        {
          "output_type": "stream",
          "text": [
            "   name                  no\n",
            "0     1  snsdgyfodfbdjgfgdy\n",
            "1     1               nhgak\n"
          ],
          "name": "stdout"
        }
      ]
    }
  ]
}
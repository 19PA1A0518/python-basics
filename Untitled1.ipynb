{
  "nbformat": 4,
  "nbformat_minor": 0,
  "metadata": {
    "colab": {
      "name": "Untitled1.ipynb",
      "provenance": [],
      "collapsed_sections": [],
      "authorship_tag": "ABX9TyMPYrf0wFMzm05XOXYKzevT",
      "include_colab_link": true
    },
    "kernelspec": {
      "name": "python3",
      "display_name": "Python 3"
    }
  },
  "cells": [
    {
      "cell_type": "markdown",
      "metadata": {
        "id": "view-in-github",
        "colab_type": "text"
      },
      "source": [
        "<a href=\"https://colab.research.google.com/github/19PA1A0518/python-basics/blob/master/Untitled1.ipynb\" target=\"_parent\"><img src=\"https://colab.research.google.com/assets/colab-badge.svg\" alt=\"Open In Colab\"/></a>"
      ]
    },
    {
      "cell_type": "code",
      "metadata": {
        "id": "z3bAf28DXXJL",
        "colab_type": "code",
        "colab": {
          "base_uri": "https://localhost:8080/",
          "height": 85
        },
        "outputId": "7cc5f1b4-d784-41e4-cbed-3ef2edd7f5ce"
      },
      "source": [
        "import  pandas as pd\n",
        "import numpy as np\n",
        "df=pd.DataFrame({\"roll no\":[\"cse511\",\"cse599\",\"cse764347689\"],\"name\":[\"murali\",\"krishna\",\"sumanth\"],\"age\":[23,435,67878976543213456788]})\n",
        "print(df)"
      ],
      "execution_count": 3,
      "outputs": [
        {
          "output_type": "stream",
          "text": [
            "        roll no     name                   age\n",
            "0        cse511   murali                    23\n",
            "1        cse599  krishna                   435\n",
            "2  cse764347689  sumanth  67878976543213456788\n"
          ],
          "name": "stdout"
        }
      ]
    },
    {
      "cell_type": "code",
      "metadata": {
        "id": "UWAr50o0b1Qq",
        "colab_type": "code",
        "colab": {}
      },
      "source": [
        ""
      ],
      "execution_count": 0,
      "outputs": []
    }
  ]
}
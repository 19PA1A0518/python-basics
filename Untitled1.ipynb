{
  "nbformat": 4,
  "nbformat_minor": 0,
  "metadata": {
    "colab": {
      "name": "Untitled1.ipynb",
      "provenance": [],
      "collapsed_sections": [],
      "authorship_tag": "ABX9TyM/8GqSKpgpkBOil0/q/nyB",
      "include_colab_link": true
    },
    "kernelspec": {
      "name": "python3",
      "display_name": "Python 3"
    }
  },
  "cells": [
    {
      "cell_type": "markdown",
      "metadata": {
        "id": "view-in-github",
        "colab_type": "text"
      },
      "source": [
        "<a href=\"https://colab.research.google.com/github/19PA1A0518/python-basics/blob/master/Untitled1.ipynb\" target=\"_parent\"><img src=\"https://colab.research.google.com/assets/colab-badge.svg\" alt=\"Open In Colab\"/></a>"
      ]
    },
    {
      "cell_type": "code",
      "metadata": {
        "id": "z3bAf28DXXJL",
        "colab_type": "code",
        "colab": {
          "base_uri": "https://localhost:8080/",
          "height": 272
        },
        "outputId": "2b9e0097-84dc-495e-a862-b993d52b3028"
      },
      "source": [
        "import  pandas as pd\n",
        "import numpy as np\n",
        "def gmr(x):\n",
        "  return(x**3)\n",
        "df=pd.DataFrame({\"roll no\":[511,599,764347689],\"name\":[4,6,7],\"age\":[23,435,67878976543213456788]})\n",
        "print(df.values)\n",
        "print(df.apply(gmr))\n",
        "print(df.apply(np.sum,axis=0))\n",
        "print(df.apply(np.sum,axis=1))"
      ],
      "execution_count": 17,
      "outputs": [
        {
          "output_type": "stream",
          "text": [
            "[[511 4 23]\n",
            " [599 6 435]\n",
            " [764347689 7 67878976543213456788]]\n",
            "               roll no  name                                                age\n",
            "0            133432831    64                                              12167\n",
            "1            214921799   216                                           82312875\n",
            "2 -3979377329307415495   343  3127561487569924635003455192336724175780270565...\n",
            "roll no               764348799\n",
            "name                         17\n",
            "age        67878976543213457246\n",
            "dtype: object\n",
            "0                     538\n",
            "1                    1040\n",
            "2    67878976543977804484\n",
            "dtype: object\n"
          ],
          "name": "stdout"
        }
      ]
    },
    {
      "cell_type": "code",
      "metadata": {
        "id": "UWAr50o0b1Qq",
        "colab_type": "code",
        "colab": {}
      },
      "source": [
        ""
      ],
      "execution_count": 0,
      "outputs": []
    }
  ]
}